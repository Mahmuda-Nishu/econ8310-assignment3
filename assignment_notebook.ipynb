{
  "cells": [
    {
      "cell_type": "markdown",
      "id": "8e649671-64ae-4692-a381-33974ffa666a",
      "metadata": {
        "id": "8e649671-64ae-4692-a381-33974ffa666a"
      },
      "source": [
        "# Assignment 3\n",
        "## Econ 8310 - Business Forecasting\n",
        "\n",
        "For homework assignment 3, you will work with [Fashion MNIST](https://github.com/zalandoresearch/fashion-mnist), a more fancier data set.\n",
        "\n",
        "- You must create a custom data loader as described in the first week of neural network lectures [2 points]\n",
        "    - You will NOT receive credit for this if you use the pytorch prebuilt loader for Fashion MNIST!\n",
        "- You must create a working and trained neural network using only pytorch [2 points]\n",
        "- You must store your weights and create an import script so that I can evaluate your model without training it [2 points]\n",
        "\n",
        "Highest accuracy score gets some extra credit!\n",
        "\n",
        "Submit your forked repository URL on Canvas! :) I'll be manually grading this assignment.\n",
        "\n",
        "Some checks you can make on your own:\n",
        "- Did you manually process the data or use a prebuilt loader (see above)?\n",
        "- Does your script train a neural network on the assigned data?\n",
        "- Did your script save your model?\n",
        "- Do you have separate code to import your model for use after training?"
      ]
    },
    {
      "cell_type": "code",
      "execution_count": 1,
      "id": "bcd35387-b05b-4cb2-9b1f-e1d2c0e43588",
      "metadata": {
        "colab": {
          "base_uri": "https://localhost:8080/"
        },
        "id": "bcd35387-b05b-4cb2-9b1f-e1d2c0e43588",
        "outputId": "988eaad9-027f-4ca7-f644-06e016ab9a51"
      },
      "outputs": [
        {
          "output_type": "stream",
          "name": "stdout",
          "text": [
            "Train: torch.Size([60000, 784]) torch.Size([60000])\n",
            "Test : torch.Size([10000, 784]) torch.Size([10000])\n"
          ]
        }
      ],
      "source": [
        "import gzip\n",
        "import numpy as np\n",
        "import torch\n",
        "\n",
        "def read_images(filename):\n",
        "    with gzip.open(filename, 'rb') as f:\n",
        "        f.read(16)  # header skipping\n",
        "        buffer = f.read()\n",
        "        data = np.frombuffer(buffer, dtype=np.uint8).astype(np.float32)\n",
        "        data = data.reshape(-1, 28*28) / 255.0  # Normalize\n",
        "        return torch.tensor(data)\n",
        "\n",
        "def read_labels(filename):\n",
        "    with gzip.open(filename, 'rb') as f:\n",
        "        f.read(8)\n",
        "        buffer = f.read()\n",
        "        labels = np.frombuffer(buffer, dtype=np.uint8)\n",
        "        return torch.tensor(labels, dtype=torch.long)\n",
        "\n",
        "def get_fashion_mnist_data(path='.'):\n",
        "    train_x = read_images(f'{path}/train-images-idx3-ubyte.gz')\n",
        "    train_y = read_labels(f'{path}/train-labels-idx1-ubyte.gz')\n",
        "    test_x = read_images(f'{path}/t10k-images-idx3-ubyte.gz')\n",
        "    test_y = read_labels(f'{path}/t10k-labels-idx1-ubyte.gz')\n",
        "    return train_x, train_y, test_x, test_y\n",
        "\n",
        "# Load and verify the data\n",
        "train_x, train_y, test_x, test_y = get_fashion_mnist_data()\n",
        "print(\"Train:\", train_x.shape, train_y.shape)\n",
        "print(\"Test :\", test_x.shape, test_y.shape)\n"
      ]
    },
    {
      "cell_type": "code",
      "source": [
        "import torch\n",
        "import torch.nn as nn\n",
        "\n",
        "class FashionClassifier(nn.Module):\n",
        "    def __init__(self):\n",
        "        super(FashionClassifier, self).__init__()\n",
        "        self.net = nn.Sequential(\n",
        "            nn.Linear(784, 256),\n",
        "            nn.BatchNorm1d(256),\n",
        "            nn.ReLU(),\n",
        "            nn.Dropout(0.3),\n",
        "            nn.Linear(256, 128),\n",
        "            nn.BatchNorm1d(128),\n",
        "            nn.ReLU(),\n",
        "            nn.Dropout(0.3),\n",
        "            nn.Linear(128, 10)\n",
        "        )\n",
        "\n",
        "    def forward(self, x):\n",
        "        return self.net(x)\n"
      ],
      "metadata": {
        "id": "m_K_tSLjPW8a"
      },
      "id": "m_K_tSLjPW8a",
      "execution_count": 24,
      "outputs": []
    },
    {
      "cell_type": "code",
      "source": [
        "import torch.nn.functional as F\n",
        "from torch import optim\n",
        "\n",
        "model = FashionClassifier()\n",
        "optimizer = optim.Adam(model.parameters(), lr=0.001)\n",
        "scheduler = torch.optim.lr_scheduler.StepLR(optimizer, step_size=10, gamma=0.5)\n",
        "\n",
        "batch_size = 64\n",
        "epochs = 50\n",
        "\n",
        "for epoch in range(epochs):\n",
        "    permutation = torch.randperm(train_x.size(0))\n",
        "    epoch_loss = 0\n",
        "    correct = 0\n",
        "    total = 0\n",
        "\n",
        "    for i in range(0, train_x.size(0), batch_size):\n",
        "        indices = permutation[i:i+batch_size]\n",
        "        x_batch = train_x[indices]\n",
        "        y_batch = train_y[indices]\n",
        "\n",
        "        preds = model(x_batch)\n",
        "        loss = F.cross_entropy(preds, y_batch)\n",
        "\n",
        "        optimizer.zero_grad()\n",
        "        loss.backward()\n",
        "        optimizer.step()\n",
        "\n",
        "        epoch_loss += loss.item()\n",
        "        correct += (preds.argmax(1) == y_batch).sum().item()\n",
        "        total += y_batch.size(0)\n",
        "\n",
        "    scheduler.step()\n",
        "    train_acc = correct / total\n",
        "    print(f\"Epoch {epoch+1:2d} | Loss: {epoch_loss:.4f} | Train Acc: {train_acc:.4f}\")\n"
      ],
      "metadata": {
        "colab": {
          "base_uri": "https://localhost:8080/"
        },
        "id": "JambZZlWPYq0",
        "outputId": "97c4f39d-e5c8-4071-c608-9cd385e489d1"
      },
      "id": "JambZZlWPYq0",
      "execution_count": 25,
      "outputs": [
        {
          "output_type": "stream",
          "name": "stdout",
          "text": [
            "Epoch  1 | Loss: 492.0804 | Train Acc: 0.8199\n",
            "Epoch  2 | Loss: 377.4563 | Train Acc: 0.8538\n",
            "Epoch  3 | Loss: 349.2116 | Train Acc: 0.8651\n",
            "Epoch  4 | Loss: 323.9655 | Train Acc: 0.8730\n",
            "Epoch  5 | Loss: 310.7680 | Train Acc: 0.8780\n",
            "Epoch  6 | Loss: 298.9636 | Train Acc: 0.8815\n",
            "Epoch  7 | Loss: 287.5709 | Train Acc: 0.8867\n",
            "Epoch  8 | Loss: 277.0797 | Train Acc: 0.8901\n",
            "Epoch  9 | Loss: 268.5758 | Train Acc: 0.8938\n",
            "Epoch 10 | Loss: 264.0986 | Train Acc: 0.8952\n",
            "Epoch 11 | Loss: 236.4331 | Train Acc: 0.9046\n",
            "Epoch 12 | Loss: 228.8722 | Train Acc: 0.9095\n",
            "Epoch 13 | Loss: 222.9869 | Train Acc: 0.9120\n",
            "Epoch 14 | Loss: 219.4331 | Train Acc: 0.9125\n",
            "Epoch 15 | Loss: 214.0352 | Train Acc: 0.9153\n",
            "Epoch 16 | Loss: 210.4927 | Train Acc: 0.9153\n",
            "Epoch 17 | Loss: 205.1685 | Train Acc: 0.9176\n",
            "Epoch 18 | Loss: 200.7757 | Train Acc: 0.9200\n",
            "Epoch 19 | Loss: 197.9303 | Train Acc: 0.9212\n",
            "Epoch 20 | Loss: 195.9485 | Train Acc: 0.9208\n",
            "Epoch 21 | Loss: 181.0443 | Train Acc: 0.9271\n",
            "Epoch 22 | Loss: 176.0588 | Train Acc: 0.9294\n",
            "Epoch 23 | Loss: 172.0299 | Train Acc: 0.9307\n",
            "Epoch 24 | Loss: 170.2970 | Train Acc: 0.9315\n",
            "Epoch 25 | Loss: 169.2723 | Train Acc: 0.9325\n",
            "Epoch 26 | Loss: 166.1134 | Train Acc: 0.9335\n",
            "Epoch 27 | Loss: 166.3638 | Train Acc: 0.9331\n",
            "Epoch 28 | Loss: 162.9898 | Train Acc: 0.9341\n",
            "Epoch 29 | Loss: 160.5136 | Train Acc: 0.9352\n",
            "Epoch 30 | Loss: 158.8124 | Train Acc: 0.9363\n",
            "Epoch 31 | Loss: 151.5877 | Train Acc: 0.9384\n",
            "Epoch 32 | Loss: 149.2780 | Train Acc: 0.9403\n",
            "Epoch 33 | Loss: 146.6527 | Train Acc: 0.9423\n",
            "Epoch 34 | Loss: 145.4242 | Train Acc: 0.9413\n",
            "Epoch 35 | Loss: 144.9409 | Train Acc: 0.9406\n",
            "Epoch 36 | Loss: 144.7992 | Train Acc: 0.9421\n",
            "Epoch 37 | Loss: 143.9770 | Train Acc: 0.9432\n",
            "Epoch 38 | Loss: 140.5304 | Train Acc: 0.9437\n",
            "Epoch 39 | Loss: 140.8303 | Train Acc: 0.9433\n",
            "Epoch 40 | Loss: 139.5554 | Train Acc: 0.9446\n",
            "Epoch 41 | Loss: 136.5115 | Train Acc: 0.9451\n",
            "Epoch 42 | Loss: 134.9863 | Train Acc: 0.9465\n",
            "Epoch 43 | Loss: 131.8631 | Train Acc: 0.9474\n",
            "Epoch 44 | Loss: 133.0615 | Train Acc: 0.9467\n",
            "Epoch 45 | Loss: 131.4857 | Train Acc: 0.9471\n",
            "Epoch 46 | Loss: 131.3891 | Train Acc: 0.9467\n",
            "Epoch 47 | Loss: 131.4140 | Train Acc: 0.9478\n",
            "Epoch 48 | Loss: 130.5757 | Train Acc: 0.9475\n",
            "Epoch 49 | Loss: 129.7558 | Train Acc: 0.9478\n",
            "Epoch 50 | Loss: 131.6948 | Train Acc: 0.9469\n"
          ]
        }
      ]
    },
    {
      "cell_type": "code",
      "source": [
        "torch.save(model.state_dict(), 'fashion_model_v2.pth')"
      ],
      "metadata": {
        "id": "OoiHvUBdRIVh"
      },
      "id": "OoiHvUBdRIVh",
      "execution_count": 26,
      "outputs": []
    },
    {
      "cell_type": "code",
      "source": [
        "model = FashionClassifier()\n",
        "model.load_state_dict(torch.load('fashion_model_v2.pth'))\n",
        "model.eval()\n",
        "\n",
        "with torch.no_grad():\n",
        "    outputs = model(test_x)\n",
        "    predicted = outputs.argmax(dim=1)\n",
        "    accuracy = (predicted == test_y).float().mean()\n",
        "\n",
        "print(f\" Final Test Accuracy: {accuracy:.4f}\")\n"
      ],
      "metadata": {
        "colab": {
          "base_uri": "https://localhost:8080/"
        },
        "id": "kezWiJdARNoT",
        "outputId": "caabc87d-1466-4daf-bff6-03e58e14f04b"
      },
      "id": "kezWiJdARNoT",
      "execution_count": 27,
      "outputs": [
        {
          "output_type": "stream",
          "name": "stdout",
          "text": [
            " Final Test Accuracy: 0.9050\n"
          ]
        }
      ]
    },
    {
      "cell_type": "code",
      "source": [
        "%%writefile model.py\n",
        "import torch.nn as nn\n",
        "\n",
        "class FashionClassifier(nn.Module):\n",
        "    def __init__(self):\n",
        "        super(FashionClassifier, self).__init__()\n",
        "        self.net = nn.Sequential(\n",
        "            nn.Linear(784, 256),\n",
        "            nn.BatchNorm1d(256),\n",
        "            nn.ReLU(),\n",
        "            nn.Dropout(0.3),\n",
        "            nn.Linear(256, 128),\n",
        "            nn.BatchNorm1d(128),\n",
        "            nn.ReLU(),\n",
        "            nn.Dropout(0.3),\n",
        "            nn.Linear(128, 10)\n",
        "        )\n",
        "\n",
        "    def forward(self, x):\n",
        "        return self.net(x)\n"
      ],
      "metadata": {
        "colab": {
          "base_uri": "https://localhost:8080/"
        },
        "id": "Bp8UsDEaYAZZ",
        "outputId": "0b8ffc88-0097-4d31-f4d6-499a368a38ad"
      },
      "id": "Bp8UsDEaYAZZ",
      "execution_count": 32,
      "outputs": [
        {
          "output_type": "stream",
          "name": "stdout",
          "text": [
            "Overwriting model.py\n"
          ]
        }
      ]
    }
  ],
  "metadata": {
    "kernelspec": {
      "display_name": "Python [conda env:base] *",
      "language": "python",
      "name": "conda-base-py"
    },
    "language_info": {
      "codemirror_mode": {
        "name": "ipython",
        "version": 3
      },
      "file_extension": ".py",
      "mimetype": "text/x-python",
      "name": "python",
      "nbconvert_exporter": "python",
      "pygments_lexer": "ipython3",
      "version": "3.12.7"
    },
    "colab": {
      "provenance": []
    }
  },
  "nbformat": 4,
  "nbformat_minor": 5
}
